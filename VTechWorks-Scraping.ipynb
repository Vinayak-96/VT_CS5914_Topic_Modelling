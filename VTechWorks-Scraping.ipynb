{
 "cells": [
  {
   "cell_type": "code",
   "execution_count": 1,
   "id": "845019a3",
   "metadata": {},
   "outputs": [],
   "source": [
    "from bs4 import BeautifulSoup\n",
    "import pandas as pd\n",
    "import requests\n",
    "import time"
   ]
  },
  {
   "cell_type": "markdown",
   "id": "58eab6b7",
   "metadata": {},
   "source": [
    "## Create DF to hold paper info:"
   ]
  },
  {
   "cell_type": "code",
   "execution_count": 2,
   "id": "b60686ed",
   "metadata": {},
   "outputs": [
    {
     "data": {
      "text/html": [
       "<div>\n",
       "<style scoped>\n",
       "    .dataframe tbody tr th:only-of-type {\n",
       "        vertical-align: middle;\n",
       "    }\n",
       "\n",
       "    .dataframe tbody tr th {\n",
       "        vertical-align: top;\n",
       "    }\n",
       "\n",
       "    .dataframe thead th {\n",
       "        text-align: right;\n",
       "    }\n",
       "</style>\n",
       "<table border=\"1\" class=\"dataframe\">\n",
       "  <thead>\n",
       "    <tr style=\"text-align: right;\">\n",
       "      <th></th>\n",
       "      <th>Title</th>\n",
       "      <th>Abstract</th>\n",
       "      <th>Date</th>\n",
       "    </tr>\n",
       "  </thead>\n",
       "  <tbody>\n",
       "  </tbody>\n",
       "</table>\n",
       "</div>"
      ],
      "text/plain": [
       "Empty DataFrame\n",
       "Columns: [Title, Abstract, Date]\n",
       "Index: []"
      ]
     },
     "execution_count": 2,
     "metadata": {},
     "output_type": "execute_result"
    }
   ],
   "source": [
    "df = pd.DataFrame(columns = [\"Title\", \"Abstract\", \"Date\"])\n",
    "df"
   ]
  },
  {
   "cell_type": "markdown",
   "id": "7fefa64a",
   "metadata": {},
   "source": [
    "## Scrape the paper data given catalog URL:"
   ]
  },
  {
   "cell_type": "code",
   "execution_count": null,
   "id": "7d20be4d",
   "metadata": {},
   "outputs": [],
   "source": [
    "#catalog = \"https://vtechworks.lib.vt.edu/handle/10919/19372/recent-submissions?offset=0\" # CS\n",
    "#catalog = \"https://vtechworks.lib.vt.edu/handle/10919/5532/recent-submissions?offset=0\" # Life science\n",
    "catalog = \"https://vtechworks.lib.vt.edu/recent-submissions?offset=0\"\n",
    "#catalog = \"https://vtechworks.lib.vt.edu/handle/10919/5534/recent-submissions?offset=0\"\n",
    "#catalog = \"https://vtechworks.lib.vt.edu/handle/10919/5534/discover?rpp=20&etal=0&scope=&group_by=none&page=1&sort_by=dc.date.issued_dt&order=desc&filtertype_0=department&filter_relational_operator_0=equals&filter_0=Computer+Science\"\n",
    "for i in range(11):\n",
    "    cat_page = requests.get(catalog)\n",
    "    cat_soup = BeautifulSoup(cat_page.content, \"html.parser\")\n",
    "\n",
    "    # Get each URL on catalog\n",
    "    div = cat_soup.find(\"div\", class_ = \"ds-static-div\")\n",
    "    links = div.find_all(\"a\", class_ = lambda x: x not in [\"image-link\", \"previous-page-link\", \"next-page-link\"])\n",
    "    for link in links:\n",
    "        if 'http' in link['href']:\n",
    "            continue\n",
    "        url = \"https://vtechworks.lib.vt.edu\" + link['href']\n",
    "        page = requests.get(url)\n",
    "        soup = BeautifulSoup(page.content, \"html.parser\")\n",
    "        abstract = soup.find(\"div\", class_ = \"line-break\")\n",
    "        if abstract == None:\n",
    "            continue\n",
    "        date = list(soup.find(\"div\", class_ = \"simple-item-view-date\"))[-1]\n",
    "        title = soup.find(\"h2\", class_ = \"first-page-header\").text\n",
    "        meta = {\"Title\": title, \"Abstract\": abstract.text, \"Date\": date}\n",
    "        df = df.append(meta, ignore_index = True)\n",
    "    num = i + 20\n",
    "    old = \"offset=\" + str(num)\n",
    "    new = \"offset=\" + str(num + 20)\n",
    "    catalog = catalog.replace(old, new)\n",
    "    time.sleep(20) # Timeout to ensure too many requests aren't sent"
   ]
  },
  {
   "cell_type": "markdown",
   "id": "ef9797cb",
   "metadata": {},
   "source": [
    "## Save the data to CSV:"
   ]
  },
  {
   "cell_type": "code",
   "execution_count": null,
   "id": "3d35db58",
   "metadata": {},
   "outputs": [],
   "source": [
    "# Set desired file name\n",
    "df.to_csv(\"Recent_papers.csv\", index = False)"
   ]
  }
 ],
 "metadata": {
  "kernelspec": {
   "display_name": "Python 3 (ipykernel)",
   "language": "python",
   "name": "python3"
  },
  "language_info": {
   "codemirror_mode": {
    "name": "ipython",
    "version": 3
   },
   "file_extension": ".py",
   "mimetype": "text/x-python",
   "name": "python",
   "nbconvert_exporter": "python",
   "pygments_lexer": "ipython3",
   "version": "3.9.12"
  }
 },
 "nbformat": 4,
 "nbformat_minor": 5
}
