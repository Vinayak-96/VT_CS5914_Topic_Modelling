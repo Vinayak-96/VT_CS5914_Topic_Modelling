{
 "cells": [
  {
   "cell_type": "code",
   "execution_count": 1,
   "id": "621ddfef",
   "metadata": {},
   "outputs": [],
   "source": [
    "import re\n",
    "from nltk.corpus import stopwords\n",
    "from sparknlp.annotator import StopWordsCleaner\n",
    "import pandas as pd"
   ]
  },
  {
   "cell_type": "markdown",
   "id": "58db1927",
   "metadata": {},
   "source": [
    "## Read in the data:"
   ]
  },
  {
   "cell_type": "code",
   "execution_count": 65,
   "id": "943ec15b",
   "metadata": {},
   "outputs": [],
   "source": [
    "df = pd.read_csv(\"CS_Papers.csv\")"
   ]
  },
  {
   "cell_type": "markdown",
   "id": "ab24b8b3",
   "metadata": {},
   "source": [
    "## Perform initial preprocessing:"
   ]
  },
  {
   "cell_type": "code",
   "execution_count": 66,
   "id": "8e4470a8",
   "metadata": {},
   "outputs": [
    {
     "name": "stderr",
     "output_type": "stream",
     "text": [
      "<>:1: DeprecationWarning: invalid escape sequence \\.\n",
      "<>:1: DeprecationWarning: invalid escape sequence \\.\n",
      "C:\\Users\\rylan\\AppData\\Local\\Temp\\ipykernel_18124\\4148200583.py:1: DeprecationWarning: invalid escape sequence \\.\n",
      "  df['processed'] = df['Abstract'].map(lambda x: re.sub('[,\\.!?]', '', x))\n"
     ]
    },
    {
     "data": {
      "text/plain": [
       "0    this paper presents a comprehensive workflow t...\n",
       "1    this paper presents ido a compiler-directed ap...\n",
       "2    this paper presents elastin a stagnation-free ...\n",
       "3    this paper presents benchprime an automated be...\n",
       "4    we present a composable workflow to enable hig...\n",
       "Name: processed, dtype: object"
      ]
     },
     "execution_count": 66,
     "metadata": {},
     "output_type": "execute_result"
    }
   ],
   "source": [
    "df['processed'] = df['Abstract'].map(lambda x: re.sub('[,\\.!?]', '', x))\n",
    "df['processed'] = df['processed'].map(lambda x: x.lower())\n",
    "df['processed'].head()"
   ]
  },
  {
   "cell_type": "markdown",
   "id": "8eae3b41",
   "metadata": {},
   "source": [
    "### Import nltk for stopword removal:"
   ]
  },
  {
   "cell_type": "code",
   "execution_count": 67,
   "id": "bbaefcdb",
   "metadata": {},
   "outputs": [],
   "source": [
    "from nltk.corpus import stopwords\n",
    "stop_words = stopwords.words('english')\n",
    "stop_words.extend(['from', 'subject', 're', 'edu', 'use'])"
   ]
  },
  {
   "cell_type": "markdown",
   "id": "093c714e",
   "metadata": {},
   "source": [
    "### Import Gensim libraries: "
   ]
  },
  {
   "cell_type": "code",
   "execution_count": 68,
   "id": "d92f14fc",
   "metadata": {},
   "outputs": [],
   "source": [
    "import gensim\n",
    "from gensim.utils import simple_preprocess\n",
    "from pprint import pprint"
   ]
  },
  {
   "cell_type": "code",
   "execution_count": 69,
   "id": "77dc85be",
   "metadata": {},
   "outputs": [
    {
     "name": "stdout",
     "output_type": "stream",
     "text": [
      "['this paper presents a comprehensive workflow to address two major factors in '\n",
      " 'multivariate multidimensional (mvmd) scientific visualization: the '\n",
      " 'scalability of rendering and the scalability of representation (for '\n",
      " 'perception) our workflow integrates the metrics of scientific computing and '\n",
      " 'visualization across di fferent stem domains to deliver perceivable '\n",
      " 'visualizations that meet scientists’ expectations our approach attempts to '\n",
      " 'balance the performance of mvmd visualizations using techniques such as '\n",
      " 'sub-sampling domain decomposition and parallel rendering when mapping data '\n",
      " 'to visual form we considered: the nature of the data (dimensionality type '\n",
      " 'and distribution) the computing power (serial or parallel) and the rendering '\n",
      " 'power (rendering mechanism format and display spectrum) we used hpc clusters '\n",
      " 'to perform remote parallel processing and visualization of large-scale data '\n",
      " 'sets such as 3d point clouds galaxy catalogs and airflow simulations our '\n",
      " 'workflow brings these considerations into a structured form to guide the '\n",
      " 'decisions of visualization designers who deal with large heterogeneous data '\n",
      " 'sets']\n"
     ]
    },
    {
     "name": "stderr",
     "output_type": "stream",
     "text": [
      "<>:4: DeprecationWarning: invalid escape sequence \\S\n",
      "<>:6: DeprecationWarning: invalid escape sequence \\s\n",
      "<>:4: DeprecationWarning: invalid escape sequence \\S\n",
      "<>:6: DeprecationWarning: invalid escape sequence \\s\n",
      "C:\\Users\\rylan\\AppData\\Local\\Temp\\ipykernel_18124\\1601974967.py:4: DeprecationWarning: invalid escape sequence \\S\n",
      "  data = [re.sub('\\S*@\\S*\\s?', '', sent) for sent in data]\n",
      "C:\\Users\\rylan\\AppData\\Local\\Temp\\ipykernel_18124\\1601974967.py:6: DeprecationWarning: invalid escape sequence \\s\n",
      "  data = [re.sub('\\s+', ' ', sent) for sent in data]\n"
     ]
    }
   ],
   "source": [
    "# Convert to list \n",
    "data = df.processed.values.tolist()  \n",
    "# Remove Emails \n",
    "data = [re.sub('\\S*@\\S*\\s?', '', sent) for sent in data]  \n",
    "# Remove new line characters \n",
    "data = [re.sub('\\s+', ' ', sent) for sent in data]  \n",
    "# Remove distracting single quotes \n",
    "data = [re.sub(\"\\'\", \"\", sent) for sent in data]  \n",
    "\n",
    "pprint(data[:1])"
   ]
  },
  {
   "cell_type": "code",
   "execution_count": 70,
   "id": "7b28eef3",
   "metadata": {},
   "outputs": [
    {
     "name": "stdout",
     "output_type": "stream",
     "text": [
      "[['this', 'paper', 'presents', 'comprehensive', 'workflow', 'to', 'address', 'two', 'major', 'factors', 'in', 'multivariate', 'mvmd', 'scientific', 'visualization', 'the', 'scalability', 'of', 'rendering', 'and', 'the', 'scalability', 'of', 'representation', 'for', 'perception', 'our', 'workflow', 'integrates', 'the', 'metrics', 'of', 'scientific', 'computing', 'and', 'visualization', 'across', 'di', 'fferent', 'stem', 'domains', 'to', 'deliver', 'perceivable', 'visualizations', 'that', 'meet', 'scientists', 'expectations', 'our', 'approach', 'attempts', 'to', 'balance', 'the', 'performance', 'of', 'mvmd', 'visualizations', 'using', 'techniques', 'such', 'as', 'sub', 'sampling', 'domain', 'decomposition', 'and', 'parallel', 'rendering', 'when', 'mapping', 'data', 'to', 'visual', 'form', 'we', 'considered', 'the', 'nature', 'of', 'the', 'data', 'dimensionality', 'type', 'and', 'distribution', 'the', 'computing', 'power', 'serial', 'or', 'parallel', 'and', 'the', 'rendering', 'power', 'rendering', 'mechanism', 'format', 'and', 'display', 'spectrum', 'we', 'used', 'hpc', 'clusters', 'to', 'perform', 'remote', 'parallel', 'processing', 'and', 'visualization', 'of', 'large', 'scale', 'data', 'sets', 'such', 'as', 'point', 'clouds', 'galaxy', 'catalogs', 'and', 'airflow', 'simulations', 'our', 'workflow', 'brings', 'these', 'considerations', 'into', 'structured', 'form', 'to', 'guide', 'the', 'decisions', 'of', 'visualization', 'designers', 'who', 'deal', 'with', 'large', 'heterogeneous', 'data', 'sets']]\n"
     ]
    }
   ],
   "source": [
    "def sent_to_words(sentences):\n",
    "    for sentence in sentences:\n",
    "        yield(gensim.utils.simple_preprocess(str(sentence), deacc=True))\n",
    "data_words = list(sent_to_words(data))\n",
    "\n",
    "print(data_words[:1])"
   ]
  },
  {
   "cell_type": "code",
   "execution_count": 71,
   "id": "75d859e8",
   "metadata": {},
   "outputs": [
    {
     "name": "stdout",
     "output_type": "stream",
     "text": [
      "['this_paper_presents', 'comprehensive', 'workflow', 'to', 'address', 'two_major', 'factors', 'in', 'multivariate', 'mvmd', 'scientific', 'visualization', 'the', 'scalability', 'of', 'rendering', 'and', 'the', 'scalability', 'of', 'representation', 'for', 'perception', 'our', 'workflow', 'integrates', 'the', 'metrics', 'of', 'scientific', 'computing', 'and', 'visualization', 'across', 'di', 'fferent', 'stem', 'domains', 'to', 'deliver', 'perceivable', 'visualizations', 'that', 'meet', 'scientists', 'expectations', 'our_approach', 'attempts_to', 'balance', 'the', 'performance', 'of', 'mvmd', 'visualizations', 'using', 'techniques', 'such_as', 'sub', 'sampling', 'domain', 'decomposition', 'and', 'parallel', 'rendering', 'when', 'mapping', 'data', 'to', 'visual', 'form', 'we', 'considered', 'the', 'nature', 'of', 'the', 'data', 'dimensionality', 'type', 'and', 'distribution', 'the', 'computing', 'power', 'serial', 'or', 'parallel', 'and', 'the', 'rendering', 'power', 'rendering', 'mechanism', 'format', 'and', 'display', 'spectrum', 'we', 'used', 'hpc', 'clusters', 'to', 'perform', 'remote', 'parallel', 'processing', 'and', 'visualization', 'of', 'large_scale', 'data_sets', 'such_as', 'point', 'clouds', 'galaxy', 'catalogs', 'and', 'airflow', 'simulations', 'our', 'workflow', 'brings', 'these', 'considerations', 'into', 'structured', 'form', 'to', 'guide', 'the', 'decisions', 'of', 'visualization', 'designers', 'who', 'deal_with', 'large', 'heterogeneous', 'data_sets']\n"
     ]
    }
   ],
   "source": [
    "# Build the bigram and trigram models\n",
    "bigram = gensim.models.Phrases(data_words, min_count=5, threshold=10) # higher threshold fewer phrases.\n",
    "trigram = gensim.models.Phrases(bigram[data_words], threshold=50)\n",
    "# Faster way to get a sentence clubbed as a trigram/bigram\n",
    "bigram_mod = gensim.models.phrases.Phraser(bigram)\n",
    "trigram_mod = gensim.models.phrases.Phraser(trigram)\n",
    "# See trigram example\n",
    "print(trigram_mod[bigram_mod[data_words[0]]])"
   ]
  },
  {
   "cell_type": "code",
   "execution_count": 72,
   "id": "8dc793ea",
   "metadata": {},
   "outputs": [],
   "source": [
    "# Define function for stopwords, bigrams, trigrams and lemmatization\n",
    "def remove_stopwords(texts):\n",
    "    return [[word for word in simple_preprocess(str(doc)) if word not in stop_words] for doc in texts]\n",
    "\n",
    "def make_bigrams(texts):\n",
    "    return [bigram_mod[doc] for doc in texts]\n",
    "\n",
    "def make_trigrams(texts):\n",
    "    return [trigram_mod[bigram_mod[doc]] for doc in texts]\n",
    "\n",
    "def lemmatization(texts, allowed_postags=['NOUN', 'ADJ', 'VERB', 'ADV']):\n",
    "    \"\"\"https://spacy.io/api/annotation\"\"\"\n",
    "    texts_out = []\n",
    "    for sent in texts:\n",
    "        doc = nlp(\" \".join(sent)) \n",
    "        texts_out.append([token.lemma_ for token in doc if token.pos_ in allowed_postags])\n",
    "    return texts_out"
   ]
  },
  {
   "cell_type": "code",
   "execution_count": 73,
   "id": "64b2b766",
   "metadata": {},
   "outputs": [],
   "source": [
    "import spacy\n",
    "nlp = spacy.load(\"en_core_web_trf\")"
   ]
  },
  {
   "cell_type": "code",
   "execution_count": 74,
   "id": "be5f9394",
   "metadata": {},
   "outputs": [
    {
     "name": "stderr",
     "output_type": "stream",
     "text": [
      "C:\\Users\\rylan\\anaconda3\\lib\\site-packages\\torch\\amp\\autocast_mode.py:198: UserWarning: User provided device_type of 'cuda', but CUDA is not available. Disabling\n",
      "  warnings.warn('User provided device_type of \\'cuda\\', but CUDA is not available. Disabling')\n"
     ]
    },
    {
     "name": "stdout",
     "output_type": "stream",
     "text": [
      "[['comprehensive', 'workflow', 'address', 'two_major', 'factor', 'multivariate', 'mvmd', 'scientific', 'visualization', 'scalability', 'rendering', 'scalability', 'representation', 'perception', 'workflow', 'integrate', 'metric', 'scientific', 'computing', 'visualization', 'fferent', 'stem', 'domain', 'deliver', 'perceivable', 'visualization', 'meet', 'scientist', 'expectation', 'approach', 'attempt', 'balance', 'performance', 'visualization', 'use', 'technique', 'sub', 'sampling', 'domain', 'decomposition', 'parallel', 'rendering', 'mapping', 'datum', 'visual', 'form', 'consider', 'nature', 'datum', 'dimensionality', 'type', 'distribution', 'computing', 'power', 'serial', 'parallel', 'rendering', 'power', 'rendering', 'mechanism', 'format', 'display', 'spectrum', 'use', 'cluster', 'perform', 'remote', 'parallel', 'processing', 'visualization', 'large_scale', 'data_set', 'point', 'cloud', 'galaxy', 'catalog', 'airflow', 'simulation', 'workflow', 'bring', 'consideration', 'structured', 'form', 'guide', 'decision', 'visualization', 'designer', 'deal', 'large', 'heterogeneous', 'data_set']]\n"
     ]
    }
   ],
   "source": [
    "# Remove Stop Words\n",
    "data_words_nostops = remove_stopwords(data_words)\n",
    "\n",
    "# Form Bigrams\n",
    "data_words_bigrams = make_bigrams(data_words_nostops)\n",
    "\n",
    "# Initialize spacy 'en' model, keeping only tagger component (for efficiency)\n",
    "# python3 -m spacy download en\n",
    "nlp = spacy.load(\"en_core_web_trf\", disable=['parser', 'ner'])\n",
    "\n",
    "# Do lemmatization keeping only noun, adj, vb, adv\n",
    "data_lemmatized = lemmatization(data_words_bigrams, allowed_postags=['NOUN', 'ADJ', 'VERB', 'ADV'])\n",
    "\n",
    "print(data_lemmatized[:1])"
   ]
  },
  {
   "cell_type": "markdown",
   "id": "ee0e0c33",
   "metadata": {},
   "source": [
    "### More imports:"
   ]
  },
  {
   "cell_type": "code",
   "execution_count": 75,
   "id": "acd6113f",
   "metadata": {},
   "outputs": [],
   "source": [
    "import re\n",
    "import numpy as np\n",
    "import pandas as  pd\n",
    "from pprint import pprint# Gensim\n",
    "import gensim\n",
    "import gensim.corpora as corpora\n",
    "from gensim.utils import simple_preprocess\n",
    "from gensim.models import CoherenceModel# spaCy for preprocessing\n",
    "import spacy# Plotting tools\n",
    "import pyLDAvis\n",
    "import pyLDAvis.gensim\n",
    "import matplotlib.pyplot as plt\n",
    "%matplotlib inline"
   ]
  },
  {
   "cell_type": "code",
   "execution_count": 76,
   "id": "ad8db463",
   "metadata": {},
   "outputs": [
    {
     "name": "stdout",
     "output_type": "stream",
     "text": [
      "[[(0, 1), (1, 1), (2, 1), (3, 1), (4, 1), (5, 1), (6, 1), (7, 1), (8, 1), (9, 1), (10, 2), (11, 1), (12, 1), (13, 2), (14, 2), (15, 1), (16, 1), (17, 1), (18, 1), (19, 1), (20, 1), (21, 1), (22, 1), (23, 2), (24, 1), (25, 1), (26, 1), (27, 2), (28, 1), (29, 1), (30, 1), (31, 1), (32, 1), (33, 1), (34, 1), (35, 1), (36, 1), (37, 1), (38, 1), (39, 1), (40, 1), (41, 1), (42, 3), (43, 1), (44, 1), (45, 1), (46, 1), (47, 1), (48, 2), (49, 1), (50, 1), (51, 4), (52, 1), (53, 1), (54, 2), (55, 2), (56, 1), (57, 1), (58, 1), (59, 1), (60, 1), (61, 1), (62, 1), (63, 1), (64, 1), (65, 1), (66, 2), (67, 1), (68, 6), (69, 3)]]\n"
     ]
    }
   ],
   "source": [
    "# Create Dictionary \n",
    "id2word = corpora.Dictionary(data_lemmatized)  \n",
    "# Create Corpus \n",
    "texts = data_lemmatized  \n",
    "# Term Document Frequency \n",
    "corpus = [id2word.doc2bow(text) for text in texts]  \n",
    "# View \n",
    "print(corpus[:1])"
   ]
  },
  {
   "cell_type": "markdown",
   "id": "a5a47cbc",
   "metadata": {},
   "source": [
    "### Create the LDA model:"
   ]
  },
  {
   "cell_type": "code",
   "execution_count": 39,
   "id": "4f70643a",
   "metadata": {},
   "outputs": [],
   "source": [
    "lda_model = gensim.models.ldamodel.LdaModel(corpus=corpus,\n",
    "                                           id2word=id2word,\n",
    "                                           num_topics=12, \n",
    "                                           random_state=100, \n",
    "                                           update_every=1,\n",
    "                                           chunksize=100,\n",
    "                                           passes=100,\n",
    "                                           alpha='auto',\n",
    "                                           per_word_topics=True)"
   ]
  },
  {
   "cell_type": "code",
   "execution_count": 132,
   "id": "5bdd7ac2",
   "metadata": {},
   "outputs": [],
   "source": [
    "model = gensim.models.ldamodel.LdaModel(corpus=corpus,\n",
    "                                           id2word=id2word,\n",
    "                                           num_topics=12, \n",
    "                                           update_every=1,\n",
    "                                           chunksize=100,\n",
    "                                           passes=120,\n",
    "                                           alpha='auto',\n",
    "                                           per_word_topics=True)"
   ]
  },
  {
   "cell_type": "markdown",
   "id": "574754fa",
   "metadata": {},
   "source": [
    "### LDA model evaluation:"
   ]
  },
  {
   "cell_type": "code",
   "execution_count": 78,
   "id": "3b73197b",
   "metadata": {},
   "outputs": [
    {
     "name": "stdout",
     "output_type": "stream",
     "text": [
      "\n",
      "Perplexity:  -8.174301827166985\n",
      "\n",
      "Coherence Score:  0.3476704288947016\n"
     ]
    }
   ],
   "source": [
    "# Compute Perplexity\n",
    "print('\\nPerplexity: ', lda_model.log_perplexity(corpus))  \n",
    "# a measure of how good the model is. lower the better.\n",
    "\n",
    "# Compute Coherence Score\n",
    "coherence_model_lda = CoherenceModel(model=lda_model, texts=data_lemmatized, dictionary=id2word, coherence='c_v')\n",
    "coherence_lda = coherence_model_lda.get_coherence()\n",
    "print('\\nCoherence Score: ', coherence_lda)"
   ]
  },
  {
   "cell_type": "markdown",
   "id": "dd0f2475",
   "metadata": {},
   "source": [
    "### Visualize Results:"
   ]
  },
  {
   "cell_type": "code",
   "execution_count": 179,
   "id": "76744cdc",
   "metadata": {
    "scrolled": false
   },
   "outputs": [
    {
     "name": "stderr",
     "output_type": "stream",
     "text": [
      "C:\\Users\\rylan\\anaconda3\\lib\\site-packages\\pyLDAvis\\_prepare.py:228: FutureWarning: In a future version of pandas all arguments of DataFrame.drop except for the argument 'labels' will be keyword-only.\n",
      "  default_term_info  = pd.DataFrame({'saliency': saliency, 'Term': vocab, \\\n"
     ]
    },
    {
     "data": {
      "text/html": [
       "\n",
       "<link rel=\"stylesheet\" type=\"text/css\" href=\"https://cdn.rawgit.com/bmabey/pyLDAvis/files/ldavis.v1.0.0.css\">\n",
       "\n",
       "\n",
       "<div id=\"ldavis_el1812419266769055361203071722\"></div>\n",
       "<script type=\"text/javascript\">\n",
       "\n",
       "var ldavis_el1812419266769055361203071722_data = {\"mdsDat\": {\"x\": [0.29977605652060646, 0.21635967361221511, 0.13034252973999783, 0.14487509630011935, -0.10192543023317567, -0.1358245564418098, -0.013985948182633387, -0.10187951104103796, -0.07521349467436048, -0.09881100732060692, -0.1337643798981871, -0.12994902838112848], \"y\": [0.07415193401241914, -0.2898135418839137, 0.24737057266036339, -0.040578253029771805, -0.09571970543714772, -0.06164555249096638, 0.10397578045769656, 0.051096703681804814, 0.09874551015432277, -0.04492696880433878, -0.02255728189194493, -0.02009919742852296], \"topics\": [1, 2, 3, 4, 5, 6, 7, 8, 9, 10, 11, 12], \"cluster\": [1, 1, 1, 1, 1, 1, 1, 1, 1, 1, 1, 1], \"Freq\": [38.3527607791126, 14.038367306273017, 10.706758909723153, 10.101054696166344, 4.973515471651417, 4.967421364350812, 4.100374275229165, 3.694752090767903, 3.163440610618696, 2.9118142654180597, 2.154114414141482, 0.8356258165473579]}, \"tinfo\": {\"Term\": [\"algorithm\", \"problem\", \"system\", \"process\", \"model\", \"information\", \"user\", \"design\", \"use\", \"software\", \"design\", \"application\", \"approach\", \"implementation\", \"make\", \"work\", \"many\", \"code\", \"interface\", \"compare\", \"use\", \"technique\", \"performance\", \"analysis\", \"base\", \"system\", \"present\", \"algorithm\", \"solution\", \"linear\", \"approximation\", \"variable\", \"polynomial\", \"derive\", \"numerical\", \"poset\", \"local\", \"solve\", \"function\", \"problem\", \"point\", \"set\", \"method\", \"optimization\", \"give\", \"report\", \"database\", \"project\", \"concept\", \"specification\", \"current\", \"basic\", \"software_engineering\", \"simulation_model\", \"human\", \"development\", \"user\", \"test\", \"describe\", \"tool\", \"system\", \"model\", \"environment\", \"provide\", \"space\", \"query\", \"field\", \"source\", \"cache\", \"accuracy\", \"role\", \"description\", \"trace\", \"real\", \"representation\", \"dynamic\", \"discuss\", \"time\", \"state\", \"simulation\", \"show\", \"result\", \"model\", \"network\", \"document\", \"server\", \"file\", \"protocol\", \"community\", \"service\", \"traffic\", \"review\", \"client\", \"information\", \"graph\", \"access\", \"user\", \"computation\", \"complete\", \"amount\", \"step\", \"objective\", \"conduct\", \"practical\", \"non\", \"attribute\", \"year\", \"form\", \"necessary\", \"correspond\", \"measure\", \"product\", \"matrix\", \"execution\", \"synchronization\", \"decomposition\", \"classification\", \"engineering\", \"difficult\", \"speed\", \"primitive\", \"feature_reduction\", \"processor\", \"sequence\", \"program\", \"process\", \"time\", \"model\", \"requirement\", \"phase\", \"maintenance\", \"testing\", \"discipline\", \"question\", \"modification\", \"data_structure\", \"promote\", \"productivity\", \"reuse\", \"process\", \"methodology\", \"product\", \"software\", \"relate\", \"language\", \"object\", \"object_oriented\", \"claim\", \"inheritance\", \"human_computer\", \"concurrency\", \"semantic\", \"life_cycle\", \"organization\", \"metric\", \"software\", \"model\", \"image\", \"homotopy\", \"load\", \"probability_one\", \"globally_convergent\", \"factorization\", \"homotopy_algorithm\", \"homotopy_methods\", \"peer\", \"usually\", \"equation\", \"computer\", \"nonlinear\", \"web\", \"display\", \"tree\", \"proxy\", \"learning\", \"rate\", \"page\", \"translation\", \"cursor\", \"platform\", \"factor\", \"cell\", \"information_retrieval\", \"planning\", \"iterative\", \"generalized\", \"artificial_intelligence\", \"plan\", \"circuit\", \"growth\", \"agent\", \"retrieval\"], \"Freq\": [494.0, 582.0, 842.0, 271.0, 579.0, 207.0, 303.0, 585.0, 781.0, 198.0, 584.4652004158519, 362.8873973845969, 354.5066153264034, 194.54004947949164, 193.95026940721564, 175.43185413062136, 150.5080480626211, 149.45081694076993, 149.44603702704853, 145.14614920516453, 686.7658453516884, 302.47097930014706, 323.2515684106241, 253.7785865172865, 333.5677988155589, 610.7939947132189, 280.8483164662271, 493.7016909777794, 188.95874669696445, 101.21522723580824, 87.30841511234121, 84.5315406489477, 82.65693303137401, 78.49796029001901, 70.38452120856566, 65.04216046295737, 64.03383614703469, 129.11599975964342, 144.54078718211485, 477.31139072947417, 110.97096227154665, 178.07934350985587, 222.10165002702132, 112.74236113495655, 108.45954327200519, 106.80766337802127, 90.5316930359394, 84.39279930672907, 66.11798044948335, 64.98754344546417, 62.261071397803384, 46.96316829564233, 43.3105913642317, 42.24031463601117, 41.72569331073539, 180.45793070224752, 201.0675553902841, 74.87681432922274, 122.60586881812846, 114.67709825120856, 208.45327879041452, 168.8360999881262, 87.72154472683677, 104.57553683271739, 106.4740615055415, 84.04072612953226, 66.70990629688475, 57.397336242459346, 53.183750364319096, 51.495017703301706, 47.55230769316755, 44.342540344042014, 44.12941556229476, 42.45009880416804, 92.70639750904907, 73.64737052911401, 77.5420100470137, 122.79234736940575, 73.69526671255309, 75.18176566359325, 85.19926631002306, 93.52809562630793, 94.8947088614209, 110.78447314489902, 94.6124930611483, 58.61040458735289, 53.77460498665301, 52.544945725036435, 51.386604227549384, 42.556224691731785, 40.20899737533138, 39.57765588297153, 36.76611610050607, 177.1153594648833, 90.86921320085622, 68.08304769778871, 89.95126876825701, 55.967754831220084, 45.413873990919285, 41.48454526322214, 41.27613386459823, 40.83824610231317, 40.45493675961443, 40.175542619724105, 37.912968535563635, 36.990983430568946, 36.88017250748005, 83.54350529573709, 49.44875613121525, 41.32361654991804, 47.70424684431353, 44.093981697070426, 77.33521820633797, 71.77387896167504, 63.033394621028414, 56.70286780561147, 51.584883006039924, 41.742695260820746, 34.8342714301101, 33.66692024541779, 27.886265001757593, 27.847182952059953, 66.2106213866709, 46.15981859436011, 74.93578529128636, 62.814720686148085, 61.37354094859539, 63.592084746881085, 86.30619390407395, 65.05619033233617, 49.75028967721466, 42.28723804701758, 29.44255363243686, 27.542345802183494, 26.904808337291175, 22.92115319732949, 21.068407643936897, 19.23811333673833, 63.604816150555344, 142.68165919023167, 64.42771601578912, 33.71218203735665, 33.50596589469182, 29.92413788132644, 129.45070178990636, 91.24843400051451, 67.6519718137941, 38.61856629010782, 30.266714599695145, 28.486548210997363, 23.943736818976223, 21.95282714895194, 26.253683992256818, 20.1532126044582, 77.35289550861289, 85.84213379165378, 33.34108408210245, 59.10507504723782, 42.56851372495553, 40.86664994261399, 33.320728456541026, 31.613865957864267, 25.90619541918986, 23.202440745585243, 22.54669700283996, 19.231260242466508, 17.82607939364876, 79.96334487679816, 25.38425573715562, 23.262576084728973, 61.867381365322586, 53.9075783909686, 53.83317288630065, 31.55167600721722, 29.254803245252408, 26.111081183767354, 25.579176270984398, 25.1654219688075, 21.350000372777995, 20.086491811883732, 20.527965757887593, 19.061716592365176, 12.888293571849271, 12.835010171782793, 11.239697654043889, 11.233390251321723, 9.448759518768798, 7.431364796918973, 6.8220248318214765, 6.595570381538944, 6.467114063372904, 8.152003983446725], \"Total\": [494.0, 582.0, 842.0, 271.0, 579.0, 207.0, 303.0, 585.0, 781.0, 198.0, 585.2561476924358, 363.67834384065344, 355.2975627793497, 195.331001167477, 194.7412250594395, 176.22280083189432, 151.29900060181757, 150.24176618758491, 150.2369796975285, 145.93709819664477, 781.6336057852435, 327.1825732817014, 353.4044689621762, 275.17755062352717, 383.22711769035965, 842.7723804001905, 380.2749209832171, 494.5008260672448, 189.7578865395285, 102.01435682548922, 88.10754178662494, 85.33067660494856, 83.45606850697891, 79.29710924191633, 71.18365135565449, 65.8412799851007, 64.8329659505934, 131.0634171656892, 153.57427480889945, 582.0469754506801, 121.73543478836699, 262.02290723749155, 415.7699883225913, 140.48195559259386, 200.81277047466975, 107.60126233174189, 91.32529276156798, 85.18639152870766, 66.91158089211727, 65.78113474707497, 63.054675957917205, 47.756783308382886, 44.104185560416184, 43.033898069998926, 42.51929149311343, 196.3599937209891, 303.97162815026866, 94.15006741843536, 224.63463104914763, 222.2272637153895, 842.7723804001905, 579.6118099879507, 155.0242585860417, 305.9808808676958, 107.26638729819541, 84.83306379949595, 67.50223121341703, 58.18966310990891, 53.97610497845302, 52.287343702210514, 48.3446474992069, 45.13487195741798, 44.92173087104033, 43.24243035720987, 130.63719320474678, 97.02649074628933, 116.25903157042899, 314.8499855261567, 117.80001709174851, 165.3113207086191, 254.32063734031965, 356.80217200591005, 579.6118099879507, 111.58623372400301, 95.41426462741254, 59.41215882173755, 54.57636859908363, 53.34670202324632, 52.18838270180052, 43.35798507847275, 41.010750301664245, 40.3794412045366, 37.56787441684151, 207.96847122536764, 120.93785063186208, 89.50725659456995, 303.97162815026866, 56.76422699548263, 46.21035207588039, 42.28104550203425, 42.07259609426551, 41.63470690795896, 41.25142899258106, 40.97201770144521, 38.70944511222992, 37.78744377870201, 37.67664864144236, 93.20261431365165, 58.75884606020891, 44.97574552133757, 68.50432193791568, 78.52720129852956, 78.14337858571862, 72.58203123057706, 63.84153676249999, 57.51103011615724, 52.39304460738724, 42.55086660500037, 35.64246004454826, 34.475095309675766, 28.694438155747175, 28.65531925347001, 89.73671062741666, 74.07234499573323, 196.23825332732116, 271.8360233286759, 314.8499855261567, 579.6118099879507, 87.10745168511258, 65.85745926508976, 50.55153917325822, 43.08849477500113, 30.24382453915256, 28.34360465108257, 27.70608064619684, 23.722410686598202, 21.869655609624594, 20.039375221786823, 72.78358791610026, 271.8360233286759, 104.35697675036455, 78.52720129852956, 198.71170587617394, 81.94991107845324, 130.25189211374786, 92.04962745513626, 68.45315460332925, 39.41976144586993, 31.067898411224107, 29.287769831164283, 24.744923097775946, 22.754022738091606, 27.221843379996052, 20.954422782929836, 84.47936330748392, 198.71170587617394, 579.6118099879507, 59.91876945954437, 43.382187594602186, 41.68035042310354, 34.134396878425385, 32.42753738599295, 26.71988919112283, 24.01611296947886, 23.360375803681215, 20.044945779226182, 18.63984915944441, 144.0567584676599, 122.88967726145101, 71.05630668996143, 62.6844871634592, 54.724678342570506, 54.65028183800907, 32.368793249319516, 30.071905257528027, 26.928201496335944, 26.39627835826169, 25.982544356915163, 22.167091991298797, 20.90360743409138, 42.390277702993956, 19.88961616031154, 13.716191338146555, 13.662927147318925, 12.067610110527601, 12.061312386424676, 10.276663369292907, 8.259274872701393, 7.6499153230750725, 7.423482186589933, 7.295020080979075, 34.32754398512255], \"Category\": [\"Default\", \"Default\", \"Default\", \"Default\", \"Default\", \"Default\", \"Default\", \"Default\", \"Default\", \"Default\", \"Topic1\", \"Topic1\", \"Topic1\", \"Topic1\", \"Topic1\", \"Topic1\", \"Topic1\", \"Topic1\", \"Topic1\", \"Topic1\", \"Topic1\", \"Topic1\", \"Topic1\", \"Topic1\", \"Topic1\", \"Topic1\", \"Topic1\", \"Topic2\", \"Topic2\", \"Topic2\", \"Topic2\", \"Topic2\", \"Topic2\", \"Topic2\", \"Topic2\", \"Topic2\", \"Topic2\", \"Topic2\", \"Topic2\", \"Topic2\", \"Topic2\", \"Topic2\", \"Topic2\", \"Topic2\", \"Topic2\", \"Topic3\", \"Topic3\", \"Topic3\", \"Topic3\", \"Topic3\", \"Topic3\", \"Topic3\", \"Topic3\", \"Topic3\", \"Topic3\", \"Topic3\", \"Topic3\", \"Topic3\", \"Topic3\", \"Topic3\", \"Topic3\", \"Topic3\", \"Topic3\", \"Topic3\", \"Topic4\", \"Topic4\", \"Topic4\", \"Topic4\", \"Topic4\", \"Topic4\", \"Topic4\", \"Topic4\", \"Topic4\", \"Topic4\", \"Topic4\", \"Topic4\", \"Topic4\", \"Topic4\", \"Topic4\", \"Topic4\", \"Topic4\", \"Topic4\", \"Topic4\", \"Topic5\", \"Topic5\", \"Topic5\", \"Topic5\", \"Topic5\", \"Topic5\", \"Topic5\", \"Topic5\", \"Topic5\", \"Topic5\", \"Topic5\", \"Topic5\", \"Topic5\", \"Topic5\", \"Topic6\", \"Topic6\", \"Topic6\", \"Topic6\", \"Topic6\", \"Topic6\", \"Topic6\", \"Topic6\", \"Topic6\", \"Topic6\", \"Topic6\", \"Topic6\", \"Topic6\", \"Topic6\", \"Topic6\", \"Topic7\", \"Topic7\", \"Topic7\", \"Topic7\", \"Topic7\", \"Topic7\", \"Topic7\", \"Topic7\", \"Topic7\", \"Topic7\", \"Topic7\", \"Topic7\", \"Topic7\", \"Topic7\", \"Topic7\", \"Topic7\", \"Topic8\", \"Topic8\", \"Topic8\", \"Topic8\", \"Topic8\", \"Topic8\", \"Topic8\", \"Topic8\", \"Topic8\", \"Topic8\", \"Topic8\", \"Topic8\", \"Topic8\", \"Topic8\", \"Topic8\", \"Topic8\", \"Topic9\", \"Topic9\", \"Topic9\", \"Topic9\", \"Topic9\", \"Topic9\", \"Topic9\", \"Topic9\", \"Topic9\", \"Topic9\", \"Topic9\", \"Topic9\", \"Topic9\", \"Topic10\", \"Topic10\", \"Topic10\", \"Topic10\", \"Topic10\", \"Topic10\", \"Topic10\", \"Topic10\", \"Topic10\", \"Topic10\", \"Topic10\", \"Topic10\", \"Topic10\", \"Topic11\", \"Topic11\", \"Topic11\", \"Topic11\", \"Topic11\", \"Topic11\", \"Topic11\", \"Topic11\", \"Topic11\", \"Topic11\", \"Topic11\", \"Topic12\", \"Topic12\", \"Topic12\", \"Topic12\", \"Topic12\", \"Topic12\", \"Topic12\", \"Topic12\", \"Topic12\", \"Topic12\", \"Topic12\"], \"logprob\": [10.0, 9.0, 8.0, 7.0, 6.0, 5.0, 4.0, 3.0, 2.0, 1.0, -3.8073999881744385, -4.283999919891357, -4.307400226593018, -4.907400131225586, -4.9105000495910645, -5.010799884796143, -5.164100170135498, -5.17110013961792, -5.17110013961792, -5.200300216674805, -3.6461000442504883, -4.466100215911865, -4.399700164794922, -4.641600131988525, -4.368199825286865, -3.7632999420166016, -4.540299892425537, -2.971100091934204, -3.93149995803833, -4.555799961090088, -4.70359992980957, -4.735899925231934, -4.758399963378906, -4.809999942779541, -4.919099807739258, -4.998000144958496, -5.013599872589111, -4.312300205230713, -4.19950008392334, -3.0048999786376953, -4.463799953460693, -3.990799903869629, -3.76990008354187, -4.44789981842041, -4.486700057983398, -4.231100082397461, -4.396399974822998, -4.466599941253662, -4.710700035095215, -4.72790002822876, -4.7708001136779785, -5.052800178527832, -5.133699893951416, -5.15880012512207, -5.171000003814697, -3.7065999507904053, -3.5985000133514404, -4.586299896240234, -4.093200206756592, -4.159999847412109, -3.5624001026153564, -3.773200035095215, -4.427999973297119, -4.252200126647949, -4.176000118255615, -4.412600040435791, -4.643499851226807, -4.793900012969971, -4.870100021362305, -4.902400016784668, -4.982100009918213, -5.052000045776367, -5.05679988861084, -5.095600128173828, -4.314499855041504, -4.544600009918213, -4.493100166320801, -4.033400058746338, -4.544000148773193, -4.52400016784668, -4.398900032043457, -4.305600166320801, -4.291100025177002, -3.427799940109253, -3.585599899291992, -4.064499855041504, -4.150599956512451, -4.173699855804443, -4.196000099182129, -4.3846001625061035, -4.441299915313721, -4.457099914550781, -4.530799865722656, -2.9586000442504883, -3.625999927520752, -3.9147000312805176, -3.6361000537872314, -4.109399795532227, -4.318299770355225, -4.40880012512207, -4.413899898529053, -4.424499988555908, -4.434000015258789, -4.440899848937988, -4.498899936676025, -4.523499965667725, -4.526500225067139, -3.7088000774383545, -4.2332000732421875, -4.412700176239014, -4.269100189208984, -4.347799777984619, -3.5941998958587646, -3.668800115585327, -3.7987000942230225, -3.9045000076293945, -3.9990999698638916, -4.2108001708984375, -4.39169979095459, -4.42579984664917, -4.614200115203857, -4.615600109100342, -3.749500036239624, -4.110199928283691, -3.625699996948242, -3.8020999431610107, -3.8254001140594482, -3.789799928665161, -3.3803000450134277, -3.662899971008301, -3.9312000274658203, -4.093699932098389, -4.455699920654297, -4.52239990234375, -4.545899868011475, -4.706099987030029, -4.79040002822876, -4.88129997253418, -3.685499906539917, -2.8775999546051025, -3.672600030899048, -4.320300102233887, -4.326399803161621, -4.439499855041504, -2.8196001052856445, -3.169300079345703, -3.4684998989105225, -4.029200077056885, -4.272900104522705, -4.333499908447266, -4.507199764251709, -4.593999862670898, -4.41510009765625, -4.679599761962891, -3.3345000743865967, -3.2304000854492188, -4.17609977722168, -3.520699977874756, -3.848900079727173, -3.889699935913086, -4.093900203704834, -4.146399974822998, -4.345600128173828, -4.4558000564575195, -4.484399795532227, -4.643499851226807, -4.719399929046631, -3.2184998989105225, -4.365900039672852, -4.453199863433838, -3.1735999584198, -3.3113999366760254, -3.312700033187866, -3.8469998836517334, -3.922600030899048, -4.036300182342529, -4.0569000244140625, -4.073200225830078, -4.237599849700928, -4.298600196838379, -4.276800155639648, -3.4040000438690186, -3.7953999042510986, -3.799499988555908, -3.9321999549865723, -3.932800054550171, -4.105800151824951, -4.3460001945495605, -4.43149995803833, -4.4653000831604, -4.485000133514404, -4.253399848937988], \"loglift\": [10.0, 9.0, 8.0, 7.0, 6.0, 5.0, 4.0, 3.0, 2.0, 1.0, 0.957, 0.9562, 0.9561, 0.9543, 0.9543, 0.9538, 0.9531, 0.9531, 0.9531, 0.9529, 0.829, 0.8798, 0.8692, 0.8774, 0.8196, 0.6364, 0.6553, 1.9618, 1.9592, 1.9555, 1.9543, 1.954, 1.9538, 1.9532, 1.9521, 1.9512, 1.951, 1.9484, 1.9028, 1.765, 1.8708, 1.5772, 1.3364, 1.7434, 1.3474, 2.2269, 2.2256, 2.2249, 2.2224, 2.2222, 2.2216, 2.2175, 2.2161, 2.2157, 2.2155, 2.1498, 1.821, 2.0052, 1.6288, 1.5727, 0.8373, 1.0009, 1.6649, 1.1607, 2.2851, 2.2831, 2.2807, 2.2788, 2.2777, 2.2773, 2.276, 2.2748, 2.2747, 2.274, 1.9495, 2.0168, 1.8875, 1.3509, 1.8235, 1.5046, 1.1989, 0.9536, 0.4829, 2.9938, 2.9926, 2.9875, 2.9862, 2.9859, 2.9856, 2.9824, 2.9813, 2.981, 2.9795, 2.8405, 2.7152, 2.7275, 1.7834, 2.9881, 2.9849, 2.9833, 2.9832, 2.983, 2.9828, 2.9826, 2.9815, 2.981, 2.9809, 2.8929, 2.8298, 2.9176, 2.6404, 2.4251, 3.1837, 3.1829, 3.1814, 3.1799, 3.1785, 3.1749, 3.1712, 3.1704, 3.1655, 3.1655, 2.8901, 2.7212, 2.2314, 1.7291, 1.559, 0.9842, 3.289, 3.286, 3.2823, 3.2795, 3.2714, 3.2696, 3.2689, 3.2639, 3.2609, 3.2575, 3.1635, 2.6537, 2.816, 2.4527, 1.5181, 2.2908, 3.4473, 3.4448, 3.4417, 3.433, 3.4274, 3.4258, 3.4206, 3.4177, 3.4173, 3.4145, 3.3654, 2.6142, 0.5979, 3.5227, 3.5175, 3.5167, 3.5123, 3.511, 3.5055, 3.5019, 3.5009, 3.495, 3.4918, 2.9478, 1.9592, 2.4198, 3.8247, 3.8227, 3.8227, 3.8122, 3.8102, 3.807, 3.8063, 3.8058, 3.8002, 3.7979, 3.1127, 4.7422, 4.7225, 4.7222, 4.7137, 4.7136, 4.7008, 4.6791, 4.6702, 4.6665, 4.6643, 3.3471]}, \"token.table\": {\"Topic\": [3, 5, 4, 12, 2, 6, 1, 2, 1, 1, 2, 12, 6, 1, 2, 3, 4, 12, 12, 9, 7, 5, 1, 5, 1, 6, 6, 1, 3, 10, 3, 9, 6, 6, 11, 3, 11, 8, 3, 7, 2, 1, 3, 4, 4, 1, 1, 3, 7, 8, 3, 4, 11, 5, 1, 4, 7, 1, 3, 2, 10, 7, 5, 9, 11, 10, 7, 4, 5, 6, 10, 2, 4, 12, 1, 2, 4, 6, 10, 2, 5, 12, 10, 10, 10, 3, 9, 10, 1, 4, 5, 12, 9, 1, 12, 9, 11, 9, 2, 10, 2, 8, 1, 1, 7, 6, 9, 1, 2, 4, 1, 8, 7, 9, 1, 3, 4, 7, 9, 8, 6, 7, 5, 6, 2, 10, 2, 9, 9, 6, 1, 2, 9, 11, 10, 1, 7, 8, 12, 12, 11, 2, 4, 2, 2, 6, 1, 2, 7, 10, 1, 2, 1, 7, 8, 1, 7, 6, 8, 8, 1, 3, 7, 3, 8, 5, 1, 3, 11, 4, 8, 11, 4, 4, 5, 8, 3, 3, 4, 8, 1, 2, 4, 5, 12, 8, 9, 5, 4, 9, 3, 7, 8, 5, 5, 1, 2, 3, 5, 1, 2, 4, 1, 4, 5, 3, 1, 3, 8, 9, 3, 2, 2, 10, 4, 4, 3, 7, 4, 7, 6, 7, 1, 3, 10, 1, 4, 1, 3, 7, 8, 1, 2, 4, 5, 7, 1, 3, 4, 5, 11, 11, 1, 2, 3, 5, 11, 10, 2, 11, 1, 6], \"Freq\": [0.23461784886471412, 0.7597149391809791, 0.9753794396299369, 0.8224788874323059, 0.9989872088359733, 0.9697016597668424, 0.9230404130876928, 0.0763143648615809, 0.9981347697707548, 0.9991624969869707, 0.9874296596617446, 0.8757706345517137, 0.9791612318813204, 0.8715458394827522, 0.12786151537321816, 0.984153386054164, 0.9819159796942984, 0.9552723313943728, 0.9150428082367553, 0.989351497054432, 0.9924981529450606, 0.9848840418667143, 0.9917348802593647, 0.9772289800856481, 0.9935787527076764, 0.9738077720357354, 0.9865368201782533, 0.21970925957073506, 0.5614792189029896, 0.2034344996025325, 0.986376336054785, 0.9698959218894118, 0.9696633783812404, 0.9116024542727951, 0.06670261860532646, 0.9832736281347144, 0.9473502436965159, 0.969547332429991, 0.9964380868461352, 0.9911142242605446, 0.9836424145304066, 0.31606880768293455, 0.5475558217605767, 0.13800187377705592, 0.9748559836729201, 0.997853678774006, 0.07639030596687493, 0.9166836716024993, 0.981974868071809, 0.9588734375329301, 0.326856326658629, 0.6709156178782385, 0.9867577413971427, 0.9956582526833884, 0.2370486639586067, 0.762678310127691, 0.9870539274766348, 0.4321904236865845, 0.567653093797305, 0.4373276246816509, 0.5553366662624137, 0.9919810561827889, 0.40103535341546764, 0.09436125962716886, 0.49539661304263655, 0.9730579275245647, 0.9771309735664293, 0.9925597835154639, 0.9894392277485955, 0.9012622727224968, 0.09656381493455322, 0.944168547632285, 0.05209205780040193, 0.9120068900943805, 0.21910957104966639, 0.5378144016673629, 0.1742917042440528, 0.05975715574081811, 0.9868156073369413, 0.23979258642752585, 0.7524525987898225, 0.942953700710035, 0.9911902184792143, 0.9576903651823174, 0.9845732017879427, 0.9877869203630184, 0.9560304578126668, 0.9846664164195711, 0.9983054345418871, 0.1442526351385741, 0.851090547317587, 0.9477849702960376, 0.9656269504589888, 0.9917664765358108, 0.9115309410273179, 0.9903886838537854, 0.9643552595571013, 0.9551153328251855, 0.9900567247880175, 0.9836769505007228, 0.9871521233313901, 0.9890895671570376, 0.9961937948207255, 0.9980237767557734, 0.9853681961746201, 0.7006857179537023, 0.29195238248070926, 0.4569834411727215, 0.5339490733702325, 0.007215528018516655, 0.37371722729466444, 0.6132795524835519, 0.07102326254710856, 0.9114652026878932, 0.37611379934534445, 0.2915744591255193, 0.16390280246700792, 0.1104187300830369, 0.05693465769906591, 0.9745153183081577, 0.8339169892783593, 0.15316842660214763, 0.9947463615856684, 0.9816725579461799, 0.6614472689253913, 0.32368696138902125, 0.9833718651247515, 0.9885971569450639, 0.9933800771351564, 0.9847553410340538, 0.19219550216329295, 0.804373768313041, 0.9544524421971986, 0.9849873397725533, 0.9478698625211985, 0.9139669369449023, 0.08205895099505314, 0.9869800737128606, 0.8475320300982406, 0.9514798593177736, 0.9567726557753041, 0.9118133942920549, 0.08214535083712206, 0.9945352265552652, 0.9872226058592561, 0.976276059711579, 0.7389390793204623, 0.26033796744742266, 0.9757988585809586, 0.9667667519521231, 0.178679736149256, 0.8195214821461069, 0.24279342815503027, 0.23175736323889254, 0.5260524276692322, 0.2563053608627924, 0.7354849485627954, 0.5603153973707695, 0.4329709888774128, 0.9481333519491758, 0.38728432765467824, 0.2293130887429016, 0.3821884812381693, 0.9860729923240399, 0.9602345997052707, 0.9935009661310413, 0.6569037889884078, 0.343158695740213, 0.9886065184303011, 0.9901799633045801, 0.9878771717531191, 0.9655305053899629, 0.9712682578905346, 0.4514953038152626, 0.1830386366818632, 0.3660772733637264, 0.9944121256692309, 0.2832271506477497, 0.7118952705470466, 0.98728637259283, 0.5128892544885315, 0.22141120822182508, 0.2634513110487539, 0.7282781433718334, 0.2330490058789867, 0.8793191134486891, 0.10991488918108613, 0.9906031090768544, 0.9928710308785982, 0.9668620029622574, 0.27000630263767206, 0.6210144960666457, 0.09450220592318521, 0.9930627193168623, 0.9917435028905324, 0.05724690317402037, 0.6793299176650417, 0.20227239121487198, 0.05724690317402037, 0.34995193835136734, 0.3106314958399778, 0.33422376134681153, 0.4960337843076989, 0.45368943686679775, 0.04839353993245843, 0.97597479855724, 0.25665322420300873, 0.14090765250361265, 0.1711021494686725, 0.4327877898325245, 0.9749641548441335, 0.9960060340397466, 0.984256345437105, 0.0076298941506752335, 0.9795554219370222, 0.9881939969258504, 0.9881252466975768, 0.9862191734233603, 0.6281832704859891, 0.36502541393104776, 0.9745060634750868, 0.9868183504787701, 0.7249881631264027, 0.2468044810643073, 0.027290880117687825, 0.9230320459029477, 0.07335354007175744, 0.09559207175073914, 0.7966005979228262, 0.10621341305637683, 0.9747381573507031, 0.2731459550689908, 0.092107356941869, 0.3906622380637892, 0.04764173634924258, 0.1937430611535865, 0.48148907659249607, 0.5174882598891313, 0.9794814034729338, 0.9753540158561004, 0.962184444163042, 0.9881010341367206, 0.878928432599603, 0.12026095002090637, 0.6612459235854586, 0.2960802642919964, 0.039477368572266185, 0.9656730505718598, 0.9961247628859258, 0.9890804376898817, 0.9930610521106131, 0.9820406361541911], \"Term\": [\"access\", \"access\", \"accuracy\", \"agent\", \"algorithm\", \"amount\", \"analysis\", \"analysis\", \"application\", \"approach\", \"approximation\", \"artificial_intelligence\", \"attribute\", \"base\", \"base\", \"basic\", \"cache\", \"cell\", \"circuit\", \"claim\", \"classification\", \"client\", \"code\", \"community\", \"compare\", \"complete\", \"computation\", \"computer\", \"computer\", \"computer\", \"concept\", \"concurrency\", \"conduct\", \"correspond\", \"correspond\", \"current\", \"cursor\", \"data_structure\", \"database\", \"decomposition\", \"derive\", \"describe\", \"describe\", \"describe\", \"description\", \"design\", \"development\", \"development\", \"difficult\", \"discipline\", \"discuss\", \"discuss\", \"display\", \"document\", \"dynamic\", \"dynamic\", \"engineering\", \"environment\", \"environment\", \"equation\", \"equation\", \"execution\", \"factor\", \"factor\", \"factor\", \"factorization\", \"feature_reduction\", \"field\", \"file\", \"form\", \"form\", \"function\", \"function\", \"generalized\", \"give\", \"give\", \"give\", \"give\", \"globally_convergent\", \"graph\", \"graph\", \"growth\", \"homotopy\", \"homotopy_algorithm\", \"homotopy_methods\", \"human\", \"human_computer\", \"image\", \"implementation\", \"information\", \"information\", \"information_retrieval\", \"inheritance\", \"interface\", \"iterative\", \"language\", \"learning\", \"life_cycle\", \"linear\", \"load\", \"local\", \"maintenance\", \"make\", \"many\", \"matrix\", \"measure\", \"measure\", \"method\", \"method\", \"method\", \"methodology\", \"methodology\", \"metric\", \"metric\", \"model\", \"model\", \"model\", \"model\", \"model\", \"modification\", \"necessary\", \"necessary\", \"network\", \"non\", \"nonlinear\", \"nonlinear\", \"numerical\", \"object\", \"object_oriented\", \"objective\", \"optimization\", \"optimization\", \"organization\", \"page\", \"peer\", \"performance\", \"performance\", \"phase\", \"plan\", \"planning\", \"platform\", \"point\", \"point\", \"polynomial\", \"poset\", \"practical\", \"present\", \"present\", \"primitive\", \"probability_one\", \"problem\", \"problem\", \"process\", \"process\", \"process\", \"processor\", \"processor\", \"product\", \"product\", \"productivity\", \"program\", \"program\", \"program\", \"project\", \"promote\", \"protocol\", \"provide\", \"provide\", \"proxy\", \"query\", \"question\", \"rate\", \"real\", \"relate\", \"relate\", \"relate\", \"report\", \"representation\", \"representation\", \"requirement\", \"result\", \"result\", \"result\", \"retrieval\", \"retrieval\", \"reuse\", \"reuse\", \"review\", \"role\", \"semantic\", \"sequence\", \"sequence\", \"sequence\", \"server\", \"service\", \"set\", \"set\", \"set\", \"set\", \"show\", \"show\", \"show\", \"simulation\", \"simulation\", \"simulation\", \"simulation_model\", \"software\", \"software\", \"software\", \"software\", \"software_engineering\", \"solution\", \"solve\", \"solve\", \"source\", \"space\", \"specification\", \"speed\", \"state\", \"state\", \"step\", \"synchronization\", \"system\", \"system\", \"system\", \"technique\", \"technique\", \"test\", \"test\", \"test\", \"testing\", \"time\", \"time\", \"time\", \"time\", \"time\", \"tool\", \"tool\", \"trace\", \"traffic\", \"translation\", \"tree\", \"use\", \"use\", \"user\", \"user\", \"user\", \"usually\", \"variable\", \"web\", \"work\", \"year\"]}, \"R\": 10, \"lambda.step\": 0.01, \"plot.opts\": {\"xlab\": \"PC1\", \"ylab\": \"PC2\"}, \"topic.order\": [5, 2, 1, 8, 4, 7, 9, 3, 12, 10, 6, 11]};\n",
       "\n",
       "function LDAvis_load_lib(url, callback){\n",
       "  var s = document.createElement('script');\n",
       "  s.src = url;\n",
       "  s.async = true;\n",
       "  s.onreadystatechange = s.onload = callback;\n",
       "  s.onerror = function(){console.warn(\"failed to load library \" + url);};\n",
       "  document.getElementsByTagName(\"head\")[0].appendChild(s);\n",
       "}\n",
       "\n",
       "if(typeof(LDAvis) !== \"undefined\"){\n",
       "   // already loaded: just create the visualization\n",
       "   !function(LDAvis){\n",
       "       new LDAvis(\"#\" + \"ldavis_el1812419266769055361203071722\", ldavis_el1812419266769055361203071722_data);\n",
       "   }(LDAvis);\n",
       "}else if(typeof define === \"function\" && define.amd){\n",
       "   // require.js is available: use it to load d3/LDAvis\n",
       "   require.config({paths: {d3: \"https://cdnjs.cloudflare.com/ajax/libs/d3/3.5.5/d3.min\"}});\n",
       "   require([\"d3\"], function(d3){\n",
       "      window.d3 = d3;\n",
       "      LDAvis_load_lib(\"https://cdn.rawgit.com/bmabey/pyLDAvis/files/ldavis.v1.0.0.js\", function(){\n",
       "        new LDAvis(\"#\" + \"ldavis_el1812419266769055361203071722\", ldavis_el1812419266769055361203071722_data);\n",
       "      });\n",
       "    });\n",
       "}else{\n",
       "    // require.js not available: dynamically load d3 & LDAvis\n",
       "    LDAvis_load_lib(\"https://cdnjs.cloudflare.com/ajax/libs/d3/3.5.5/d3.min.js\", function(){\n",
       "         LDAvis_load_lib(\"https://cdn.rawgit.com/bmabey/pyLDAvis/files/ldavis.v1.0.0.js\", function(){\n",
       "                 new LDAvis(\"#\" + \"ldavis_el1812419266769055361203071722\", ldavis_el1812419266769055361203071722_data);\n",
       "            })\n",
       "         });\n",
       "}\n",
       "</script>"
      ],
      "text/plain": [
       "PreparedData(topic_coordinates=              x         y  topics  cluster       Freq\n",
       "topic                                                \n",
       "4      0.299776  0.074152       1        1  38.352761\n",
       "1      0.216360 -0.289814       2        1  14.038367\n",
       "0      0.130343  0.247371       3        1  10.706759\n",
       "7      0.144875 -0.040578       4        1  10.101055\n",
       "3     -0.101925 -0.095720       5        1   4.973515\n",
       "6     -0.135825 -0.061646       6        1   4.967421\n",
       "8     -0.013986  0.103976       7        1   4.100374\n",
       "2     -0.101880  0.051097       8        1   3.694752\n",
       "11    -0.075213  0.098746       9        1   3.163441\n",
       "9     -0.098811 -0.044927      10        1   2.911814\n",
       "5     -0.133764 -0.022557      11        1   2.154114\n",
       "10    -0.129949 -0.020099      12        1   0.835626, topic_info=           Term        Freq       Total Category  logprob  loglift\n",
       "178   algorithm  494.000000  494.000000  Default  10.0000  10.0000\n",
       "416     problem  582.000000  582.000000  Default   9.0000   9.0000\n",
       "169      system  842.000000  842.000000  Default   8.0000   8.0000\n",
       "550     process  271.000000  271.000000  Default   7.0000   7.0000\n",
       "309       model  579.000000  579.000000  Default   6.0000   6.0000\n",
       "...         ...         ...         ...      ...      ...      ...\n",
       "2052       plan    7.431365    8.259275  Topic12  -4.3460   4.6791\n",
       "2139    circuit    6.822025    7.649915  Topic12  -4.4315   4.6702\n",
       "2038     growth    6.595570    7.423482  Topic12  -4.4653   4.6665\n",
       "2045      agent    6.467114    7.295020  Topic12  -4.4850   4.6643\n",
       "1422  retrieval    8.152004   34.327544  Topic12  -4.2534   3.3471\n",
       "\n",
       "[192 rows x 6 columns], token_table=      Topic      Freq       Term\n",
       "term                            \n",
       "730       3  0.234618     access\n",
       "730       5  0.759715     access\n",
       "531       4  0.975379   accuracy\n",
       "2045     12  0.822479      agent\n",
       "178       2  0.998987  algorithm\n",
       "...     ...       ...        ...\n",
       "1889     10  0.965673    usually\n",
       "1045      2  0.996125   variable\n",
       "1332     11  0.989080        web\n",
       "957       1  0.993061       work\n",
       "879       6  0.982041       year\n",
       "\n",
       "[252 rows x 3 columns], R=10, lambda_step=0.01, plot_opts={'xlab': 'PC1', 'ylab': 'PC2'}, topic_order=[5, 2, 1, 8, 4, 7, 9, 3, 12, 10, 6, 11])"
      ]
     },
     "execution_count": 179,
     "metadata": {},
     "output_type": "execute_result"
    }
   ],
   "source": [
    "pyLDAvis.enable_notebook()\n",
    "vis = pyLDAvis.gensim.prepare(lda_model, corpus, id2word, R = 10)\n",
    "\n",
    "vis"
   ]
  },
  {
   "cell_type": "markdown",
   "id": "4c040144",
   "metadata": {},
   "source": [
    "### (Optional) Save the model to disk:"
   ]
  },
  {
   "cell_type": "code",
   "execution_count": 96,
   "id": "ba0c89fc",
   "metadata": {},
   "outputs": [],
   "source": [
    "from gensim.test.utils import datapath\n",
    "\n",
    "temp_file = datapath(\"gensim_lda_model\")\n",
    "\n",
    "lda_model.save(temp_file)"
   ]
  },
  {
   "cell_type": "code",
   "execution_count": 5,
   "id": "4c21ebc5",
   "metadata": {},
   "outputs": [],
   "source": [
    "# from gensim.test.utils import datapath\n",
    "\n",
    "# temp_file = datapath(\"gensim_lda_model\")\n",
    "# lda_model = gensim.models.ldamodel.LdaModel.load(temp_file)"
   ]
  },
  {
   "cell_type": "markdown",
   "id": "5360aa3a",
   "metadata": {},
   "source": [
    "## Evaluation of models:"
   ]
  },
  {
   "cell_type": "markdown",
   "id": "76fdfa99",
   "metadata": {},
   "source": [
    "#### Scores for 10 Topics:"
   ]
  },
  {
   "cell_type": "code",
   "execution_count": null,
   "id": "3b7f86ef",
   "metadata": {},
   "outputs": [],
   "source": [
    "coherence_10 = []\n",
    "perplex_10 = []\n",
    "\n",
    "for i in range(10):\n",
    "    \n",
    "    model = gensim.models.ldamodel.LdaModel(corpus=corpus,\n",
    "                                           id2word=id2word,\n",
    "                                           num_topics=10, \n",
    "                                           update_every=1,\n",
    "                                           chunksize=100,\n",
    "                                           passes=10,\n",
    "                                           alpha='auto',\n",
    "                                           per_word_topics=True)\n",
    "    \n",
    "    cur_perp = model.log_perplexity(corpus)\n",
    "    perplex_10.append(cur_perp)\n",
    "    \n",
    "    coherence_model_lda = CoherenceModel(model=model, texts=data_lemmatized, dictionary=id2word, coherence='c_v')\n",
    "    coherence_lda = coherence_model_lda.get_coherence()\n",
    "    coherence_10.append(coherence_lda)"
   ]
  },
  {
   "cell_type": "markdown",
   "id": "aa873de6",
   "metadata": {},
   "source": [
    "#### Scores for 12 Topics:"
   ]
  },
  {
   "cell_type": "code",
   "execution_count": 36,
   "id": "b186d49a",
   "metadata": {},
   "outputs": [],
   "source": [
    "coherence_12 = []\n",
    "perplex_12 = []\n",
    "\n",
    "for i in range(10):\n",
    "    \n",
    "    model = gensim.models.ldamodel.LdaModel(corpus=corpus,\n",
    "                                           id2word=id2word,\n",
    "                                           num_topics=12, \n",
    "                                           update_every=1,\n",
    "                                           chunksize=100,\n",
    "                                           passes=10,\n",
    "                                           alpha='auto',\n",
    "                                           per_word_topics=True)\n",
    "    \n",
    "    cur_perp = model.log_perplexity(corpus)\n",
    "    perplex_12.append(cur_perp)\n",
    "    \n",
    "    coherence_model_lda = CoherenceModel(model=model, texts=data_lemmatized, dictionary=id2word, coherence='c_v')\n",
    "    coherence_lda = coherence_model_lda.get_coherence()\n",
    "    coherence_12.append(coherence_lda)"
   ]
  },
  {
   "cell_type": "markdown",
   "id": "fbcada65",
   "metadata": {},
   "source": [
    "#### Scores for 14 Topics:"
   ]
  },
  {
   "cell_type": "code",
   "execution_count": null,
   "id": "a0a80cd2",
   "metadata": {},
   "outputs": [],
   "source": [
    "coherence_14 = []\n",
    "perplex_14 = []\n",
    "\n",
    "for i in range(10):\n",
    "    \n",
    "    model = gensim.models.ldamodel.LdaModel(corpus=corpus,\n",
    "                                           id2word=id2word,\n",
    "                                           num_topics=14, \n",
    "                                           update_every=1,\n",
    "                                           chunksize=100,\n",
    "                                           passes=10,\n",
    "                                           alpha='auto',\n",
    "                                           per_word_topics=True)\n",
    "    \n",
    "    cur_perp = model.log_perplexity(corpus)\n",
    "    perplex_14.append(cur_perp)\n",
    "    \n",
    "    coherence_model_lda = CoherenceModel(model=model, texts=data_lemmatized, dictionary=id2word, coherence='c_v')\n",
    "    coherence_lda = coherence_model_lda.get_coherence()\n",
    "    coherence_14.append(coherence_lda)"
   ]
  },
  {
   "cell_type": "markdown",
   "id": "bdbe80b1",
   "metadata": {},
   "source": [
    "#### Scores for 16 Topics:"
   ]
  },
  {
   "cell_type": "code",
   "execution_count": 43,
   "id": "daa0f754",
   "metadata": {},
   "outputs": [],
   "source": [
    "coherence_16 = []\n",
    "perplex_16 = []\n",
    "\n",
    "for i in range(10):\n",
    "    \n",
    "    model = gensim.models.ldamodel.LdaModel(corpus=corpus,\n",
    "                                           id2word=id2word,\n",
    "                                           num_topics=16, \n",
    "                                           update_every=1,\n",
    "                                           chunksize=100,\n",
    "                                           passes=10,\n",
    "                                           alpha='auto',\n",
    "                                           per_word_topics=True)\n",
    "    \n",
    "    cur_perp = model.log_perplexity(corpus)\n",
    "    perplex_16.append(cur_perp)\n",
    "    \n",
    "    coherence_model_lda = CoherenceModel(model=model, texts=data_lemmatized, dictionary=id2word, coherence='c_v')\n",
    "    coherence_lda = coherence_model_lda.get_coherence()\n",
    "    coherence_16.append(coherence_lda)"
   ]
  },
  {
   "cell_type": "markdown",
   "id": "81da2506",
   "metadata": {},
   "source": [
    "### Make boxplot:"
   ]
  },
  {
   "cell_type": "code",
   "execution_count": 50,
   "id": "7c796d1d",
   "metadata": {},
   "outputs": [],
   "source": [
    "coherence_scores = [coherence_10, coherence_12, coherence_14, coherence_16]\n",
    "perplexity_scores = [perplex_10, perplex_12, perplex_14, perplex_16]"
   ]
  },
  {
   "cell_type": "code",
   "execution_count": 73,
   "id": "c3331ee3",
   "metadata": {},
   "outputs": [
    {
     "data": {
      "image/png": "[encoded data removed]",
      "text/plain": [
       "<Figure size 720x504 with 1 Axes>"
      ]
     },
     "metadata": {
      "needs_background": "light"
     },
     "output_type": "display_data"
    }
   ],
   "source": [
    "fig = plt.figure(figsize =(10, 7))\n",
    "ax = fig.add_subplot(111)\n",
    "\n",
    "bplot = plt.boxplot(coherence_scores, patch_artist = True)\n",
    "\n",
    "ax.set_xticklabels(['10 Topics', '12 Topics', '14 Topics', '16 Topics'])\n",
    "plt.xlabel(\"Number of Topics\")\n",
    "plt.ylabel(\"Coherence Score\")\n",
    "\n",
    "colors = ['pink', 'lightblue', 'lightgreen', 'navajowhite']\n",
    "for patch, color in zip(bplot['boxes'], colors):\n",
    "        patch.set_facecolor(color)\n",
    "        \n",
    "plt.savefig(\"Coherence_Boxplot\")"
   ]
  },
  {
   "cell_type": "markdown",
   "id": "0226d661",
   "metadata": {},
   "source": [
    "### Make lineplot for Perplexity:"
   ]
  },
  {
   "cell_type": "code",
   "execution_count": 60,
   "id": "6143b045",
   "metadata": {},
   "outputs": [
    {
     "data": {
      "text/plain": [
       "[-7.860003123661334,\n",
       " -8.376989087004485,\n",
       " -9.689944177497711,\n",
       " -10.57416914101568]"
      ]
     },
     "execution_count": 60,
     "metadata": {},
     "output_type": "execute_result"
    }
   ],
   "source": [
    "perplex_means = []\n",
    "for topic in perplexity_scores:\n",
    "    perplex_means.append(np.mean(topic))\n",
    "\n",
    "perplex_means"
   ]
  },
  {
   "cell_type": "code",
   "execution_count": 74,
   "id": "34190870",
   "metadata": {},
   "outputs": [
    {
     "data": {
      "image/png": "[encoded data removed]",
      "text/plain": [
       "<Figure size 720x504 with 1 Axes>"
      ]
     },
     "metadata": {
      "needs_background": "light"
     },
     "output_type": "display_data"
    }
   ],
   "source": [
    "fig = plt.figure(figsize =(10, 7))\n",
    "ax = fig.add_subplot(111)\n",
    "\n",
    "plt.plot(perplex_means)\n",
    "plt.xticks([0, 1, 2, 3])\n",
    "ax.set_xticklabels(['10 Topics', '12 Topics', '14 Topics', '16 Topics'])\n",
    "plt.ylabel(\"Perplexity Score\")\n",
    "plt.xlabel(\"Number of topics\")\n",
    "\n",
    "plt.savefig(\"Perplexity_Plot\")"
   ]
  },
  {
   "cell_type": "markdown",
   "id": "9912d2ed",
   "metadata": {},
   "source": [
    "## Getting topic distribution for a document:"
   ]
  },
  {
   "cell_type": "code",
   "execution_count": 188,
   "id": "ed31e0ec",
   "metadata": {},
   "outputs": [
    {
     "data": {
      "text/plain": [
       "11"
      ]
     },
     "execution_count": 188,
     "metadata": {},
     "output_type": "execute_result"
    }
   ],
   "source": [
    "max(lda_model.get_document_topics(corpus[42]), key = lambda x: x[1])[0]"
   ]
  },
  {
   "cell_type": "code",
   "execution_count": 137,
   "id": "a6fcfa5b",
   "metadata": {
    "scrolled": true
   },
   "outputs": [
    {
     "data": {
      "text/plain": [
       "[(0,\n",
       "  [('system', 0.028370176),\n",
       "   ('user', 0.02736499),\n",
       "   ('development', 0.024560051),\n",
       "   ('model', 0.022978337),\n",
       "   ('describe', 0.016686473),\n",
       "   ('tool', 0.015607379),\n",
       "   ('report', 0.014536361),\n",
       "   ('provide', 0.014232572),\n",
       "   ('database', 0.012321226),\n",
       "   ('environment', 0.011938769)]),\n",
       " (1,\n",
       "  [('algorithm', 0.051245924),\n",
       "   ('problem', 0.04954462),\n",
       "   ('method', 0.023054011),\n",
       "   ('solution', 0.019613799),\n",
       "   ('set', 0.018484524),\n",
       "   ('function', 0.0150032425),\n",
       "   ('solve', 0.013402159),\n",
       "   ('optimization', 0.011702586),\n",
       "   ('point', 0.011518716),\n",
       "   ('give', 0.011258032)]),\n",
       " (2,\n",
       "  [('process', 0.056272235),\n",
       "   ('requirement', 0.03403831),\n",
       "   ('phase', 0.025657518),\n",
       "   ('methodology', 0.025409654),\n",
       "   ('reuse', 0.02508511),\n",
       "   ('maintenance', 0.019621022),\n",
       "   ('testing', 0.016677668),\n",
       "   ('product', 0.013295751),\n",
       "   ('software', 0.013214421),\n",
       "   ('relate', 0.011801784)]),\n",
       " (3,\n",
       "  [('information', 0.051892437),\n",
       "   ('network', 0.032458372),\n",
       "   ('document', 0.027720198),\n",
       "   ('graph', 0.026623467),\n",
       "   ('user', 0.026354522),\n",
       "   ('access', 0.019947425),\n",
       "   ('server', 0.017172066),\n",
       "   ('file', 0.015755242),\n",
       "   ('protocol', 0.015394968),\n",
       "   ('community', 0.015055589)]),\n",
       " (4,\n",
       "  [('use', 0.026092961),\n",
       "   ('system', 0.02320649),\n",
       "   ('design', 0.022206154),\n",
       "   ('application', 0.013787533),\n",
       "   ('approach', 0.013469114),\n",
       "   ('base', 0.012673565),\n",
       "   ('performance', 0.012281611),\n",
       "   ('technique', 0.011492074),\n",
       "   ('present', 0.010670543),\n",
       "   ('analysis', 0.009642056)]),\n",
       " (5,\n",
       "  [('web', 0.04185085),\n",
       "   ('display', 0.036466356),\n",
       "   ('tree', 0.036416024),\n",
       "   ('proxy', 0.021343468),\n",
       "   ('learning', 0.019789724),\n",
       "   ('rate', 0.01766312),\n",
       "   ('page', 0.017303307),\n",
       "   ('translation', 0.017023418),\n",
       "   ('cursor', 0.0144424355),\n",
       "   ('factor', 0.013886361)]),\n",
       " (6,\n",
       "  [('form', 0.024507161),\n",
       "   ('computation', 0.016417922),\n",
       "   ('necessary', 0.0145056),\n",
       "   ('measure', 0.013993855),\n",
       "   ('complete', 0.013321983),\n",
       "   ('product', 0.012934797),\n",
       "   ('amount', 0.012169329),\n",
       "   ('correspond', 0.012122122),\n",
       "   ('step', 0.012108193),\n",
       "   ('objective', 0.01197974)]),\n",
       " (7,\n",
       "  [('time', 0.01771397),\n",
       "   ('space', 0.015359901),\n",
       "   ('model', 0.013689469),\n",
       "   ('result', 0.013492322),\n",
       "   ('representation', 0.013373784),\n",
       "   ('show', 0.012290808),\n",
       "   ('query', 0.012123678),\n",
       "   ('discuss', 0.011186176),\n",
       "   ('simulation', 0.010845688),\n",
       "   ('state', 0.0106312465)]),\n",
       " (8,\n",
       "  [('matrix', 0.027483063),\n",
       "   ('program', 0.026630362),\n",
       "   ('execution', 0.025506698),\n",
       "   ('processor', 0.02352965),\n",
       "   ('model', 0.022599086),\n",
       "   ('synchronization', 0.022400541),\n",
       "   ('process', 0.02232283),\n",
       "   ('time', 0.02181067),\n",
       "   ('decomposition', 0.020150825),\n",
       "   ('classification', 0.018332018)]),\n",
       " (9,\n",
       "  [('equation', 0.040016454),\n",
       "   ('image', 0.029578246),\n",
       "   ('homotopy', 0.021302773),\n",
       "   ('load', 0.0204511),\n",
       "   ('probability_one', 0.016674858),\n",
       "   ('globally_convergent', 0.015820684),\n",
       "   ('factorization', 0.012964366),\n",
       "   ('computer', 0.012703169),\n",
       "   ('nonlinear', 0.011641406),\n",
       "   ('homotopy_algorithm', 0.011611313)]),\n",
       " (10,\n",
       "  [('cell', 0.033240035),\n",
       "   ('information_retrieval', 0.02247475),\n",
       "   ('planning', 0.022381835),\n",
       "   ('iterative', 0.01959991),\n",
       "   ('generalized', 0.019588912),\n",
       "   ('artificial_intelligence', 0.016476853),\n",
       "   ('retrieval', 0.014215556),\n",
       "   ('plan', 0.012958897),\n",
       "   ('circuit', 0.011896323),\n",
       "   ('growth', 0.01150143)]),\n",
       " (11,\n",
       "  [('language', 0.059628796),\n",
       "   ('object', 0.04203171),\n",
       "   ('software', 0.03954141),\n",
       "   ('metric', 0.035631016),\n",
       "   ('object_oriented', 0.031162485),\n",
       "   ('claim', 0.017788846),\n",
       "   ('model', 0.015357883),\n",
       "   ('inheritance', 0.013941738),\n",
       "   ('human_computer', 0.013121741),\n",
       "   ('life_cycle', 0.012093218)])]"
      ]
     },
     "execution_count": 137,
     "metadata": {},
     "output_type": "execute_result"
    }
   ],
   "source": [
    "topic_results = lda_model.show_topics(formatted = False, num_topics = 12)\n",
    "topic_results"
   ]
  },
  {
   "cell_type": "code",
   "execution_count": 177,
   "id": "6fc97897",
   "metadata": {},
   "outputs": [
    {
     "name": "stdout",
     "output_type": "stream",
     "text": [
      "Most common object models of distributed object systems lack support for 'polymorphism' (an abstraction mechanism that represents a quality or state of being able to assume different forms).  This lack of support restricts the development of new components and limits reuse of existing components that use these advanced features.  In this paper, the Interoperable Common Object Model (ICOM), which focuses on a subset of object-oriented languages, specifically statically typed languages, is presented.  The ICOM model is an attempt to elevate common object models closer to the object models of statically typed object-oriented languages by including support for polymorphism.  Specific features of the ICOM object model include: remote inheritance, method overloading, and parameterized types.\n"
     ]
    }
   ],
   "source": [
    "print(df.iloc[42].Abstract)"
   ]
  },
  {
   "cell_type": "markdown",
   "id": "ce883002",
   "metadata": {},
   "source": [
    "### Create DF of results to match spark output:"
   ]
  },
  {
   "cell_type": "code",
   "execution_count": 178,
   "id": "7283e312",
   "metadata": {},
   "outputs": [
    {
     "name": "stderr",
     "output_type": "stream",
     "text": [
      "C:\\Users\\rylan\\AppData\\Local\\Temp\\ipykernel_18124\\3555954314.py:9: FutureWarning: The frame.append method is deprecated and will be removed from pandas in a future version. Use pandas.concat instead.\n",
      "  result_df_diff = result_df_diff.append(new_row, ignore_index = True)\n",
      "C:\\Users\\rylan\\AppData\\Local\\Temp\\ipykernel_18124\\3555954314.py:9: FutureWarning: The frame.append method is deprecated and will be removed from pandas in a future version. Use pandas.concat instead.\n",
      "  result_df_diff = result_df_diff.append(new_row, ignore_index = True)\n",
      "C:\\Users\\rylan\\AppData\\Local\\Temp\\ipykernel_18124\\3555954314.py:9: FutureWarning: The frame.append method is deprecated and will be removed from pandas in a future version. Use pandas.concat instead.\n",
      "  result_df_diff = result_df_diff.append(new_row, ignore_index = True)\n",
      "C:\\Users\\rylan\\AppData\\Local\\Temp\\ipykernel_18124\\3555954314.py:9: FutureWarning: The frame.append method is deprecated and will be removed from pandas in a future version. Use pandas.concat instead.\n",
      "  result_df_diff = result_df_diff.append(new_row, ignore_index = True)\n",
      "C:\\Users\\rylan\\AppData\\Local\\Temp\\ipykernel_18124\\3555954314.py:9: FutureWarning: The frame.append method is deprecated and will be removed from pandas in a future version. Use pandas.concat instead.\n",
      "  result_df_diff = result_df_diff.append(new_row, ignore_index = True)\n",
      "C:\\Users\\rylan\\AppData\\Local\\Temp\\ipykernel_18124\\3555954314.py:9: FutureWarning: The frame.append method is deprecated and will be removed from pandas in a future version. Use pandas.concat instead.\n",
      "  result_df_diff = result_df_diff.append(new_row, ignore_index = True)\n",
      "C:\\Users\\rylan\\AppData\\Local\\Temp\\ipykernel_18124\\3555954314.py:9: FutureWarning: The frame.append method is deprecated and will be removed from pandas in a future version. Use pandas.concat instead.\n",
      "  result_df_diff = result_df_diff.append(new_row, ignore_index = True)\n",
      "C:\\Users\\rylan\\AppData\\Local\\Temp\\ipykernel_18124\\3555954314.py:9: FutureWarning: The frame.append method is deprecated and will be removed from pandas in a future version. Use pandas.concat instead.\n",
      "  result_df_diff = result_df_diff.append(new_row, ignore_index = True)\n",
      "C:\\Users\\rylan\\AppData\\Local\\Temp\\ipykernel_18124\\3555954314.py:9: FutureWarning: The frame.append method is deprecated and will be removed from pandas in a future version. Use pandas.concat instead.\n",
      "  result_df_diff = result_df_diff.append(new_row, ignore_index = True)\n",
      "C:\\Users\\rylan\\AppData\\Local\\Temp\\ipykernel_18124\\3555954314.py:9: FutureWarning: The frame.append method is deprecated and will be removed from pandas in a future version. Use pandas.concat instead.\n",
      "  result_df_diff = result_df_diff.append(new_row, ignore_index = True)\n",
      "C:\\Users\\rylan\\AppData\\Local\\Temp\\ipykernel_18124\\3555954314.py:9: FutureWarning: The frame.append method is deprecated and will be removed from pandas in a future version. Use pandas.concat instead.\n",
      "  result_df_diff = result_df_diff.append(new_row, ignore_index = True)\n",
      "C:\\Users\\rylan\\AppData\\Local\\Temp\\ipykernel_18124\\3555954314.py:9: FutureWarning: The frame.append method is deprecated and will be removed from pandas in a future version. Use pandas.concat instead.\n",
      "  result_df_diff = result_df_diff.append(new_row, ignore_index = True)\n"
     ]
    },
    {
     "data": {
      "text/html": [
       "<div>\n",
       "<style scoped>\n",
       "    .dataframe tbody tr th:only-of-type {\n",
       "        vertical-align: middle;\n",
       "    }\n",
       "\n",
       "    .dataframe tbody tr th {\n",
       "        vertical-align: top;\n",
       "    }\n",
       "\n",
       "    .dataframe thead th {\n",
       "        text-align: right;\n",
       "    }\n",
       "</style>\n",
       "<table border=\"1\" class=\"dataframe\">\n",
       "  <thead>\n",
       "    <tr style=\"text-align: right;\">\n",
       "      <th></th>\n",
       "      <th>topic</th>\n",
       "      <th>topicwords</th>\n",
       "    </tr>\n",
       "  </thead>\n",
       "  <tbody>\n",
       "    <tr>\n",
       "      <th>0</th>\n",
       "      <td>0</td>\n",
       "      <td>[system, user, development, model, describe, t...</td>\n",
       "    </tr>\n",
       "    <tr>\n",
       "      <th>1</th>\n",
       "      <td>1</td>\n",
       "      <td>[algorithm, problem, method, solution, set, fu...</td>\n",
       "    </tr>\n",
       "    <tr>\n",
       "      <th>2</th>\n",
       "      <td>2</td>\n",
       "      <td>[process, requirement, phase, methodology, reu...</td>\n",
       "    </tr>\n",
       "    <tr>\n",
       "      <th>3</th>\n",
       "      <td>3</td>\n",
       "      <td>[information, network, document, graph, user, ...</td>\n",
       "    </tr>\n",
       "    <tr>\n",
       "      <th>4</th>\n",
       "      <td>4</td>\n",
       "      <td>[use, system, design, application, approach, b...</td>\n",
       "    </tr>\n",
       "    <tr>\n",
       "      <th>5</th>\n",
       "      <td>5</td>\n",
       "      <td>[web, display, tree, proxy, learning, rate, pa...</td>\n",
       "    </tr>\n",
       "    <tr>\n",
       "      <th>6</th>\n",
       "      <td>6</td>\n",
       "      <td>[form, computation, necessary, measure, comple...</td>\n",
       "    </tr>\n",
       "    <tr>\n",
       "      <th>7</th>\n",
       "      <td>7</td>\n",
       "      <td>[time, space, model, result, representation, s...</td>\n",
       "    </tr>\n",
       "    <tr>\n",
       "      <th>8</th>\n",
       "      <td>8</td>\n",
       "      <td>[matrix, program, execution, processor, model,...</td>\n",
       "    </tr>\n",
       "    <tr>\n",
       "      <th>9</th>\n",
       "      <td>9</td>\n",
       "      <td>[equation, image, homotopy, load, probability_...</td>\n",
       "    </tr>\n",
       "    <tr>\n",
       "      <th>10</th>\n",
       "      <td>10</td>\n",
       "      <td>[cell, information_retrieval, planning, iterat...</td>\n",
       "    </tr>\n",
       "    <tr>\n",
       "      <th>11</th>\n",
       "      <td>11</td>\n",
       "      <td>[language, object, software, metric, object_or...</td>\n",
       "    </tr>\n",
       "  </tbody>\n",
       "</table>\n",
       "</div>"
      ],
      "text/plain": [
       "   topic                                         topicwords\n",
       "0      0  [system, user, development, model, describe, t...\n",
       "1      1  [algorithm, problem, method, solution, set, fu...\n",
       "2      2  [process, requirement, phase, methodology, reu...\n",
       "3      3  [information, network, document, graph, user, ...\n",
       "4      4  [use, system, design, application, approach, b...\n",
       "5      5  [web, display, tree, proxy, learning, rate, pa...\n",
       "6      6  [form, computation, necessary, measure, comple...\n",
       "7      7  [time, space, model, result, representation, s...\n",
       "8      8  [matrix, program, execution, processor, model,...\n",
       "9      9  [equation, image, homotopy, load, probability_...\n",
       "10    10  [cell, information_retrieval, planning, iterat...\n",
       "11    11  [language, object, software, metric, object_or..."
      ]
     },
     "execution_count": 178,
     "metadata": {},
     "output_type": "execute_result"
    }
   ],
   "source": [
    "result_df_diff = pd.DataFrame(columns = [\"topic\", \"topicwords\"])\n",
    "\n",
    "for t in topic_results:\n",
    "    curr = []\n",
    "    for top in range(10):\n",
    "        curr.append(t[1][top][0])\n",
    "        \n",
    "    new_row = {\"topic\": t[0], \"topicwords\": curr}\n",
    "    result_df_diff = result_df_diff.append(new_row, ignore_index = True)\n",
    "result_df_diff"
   ]
  },
  {
   "cell_type": "markdown",
   "id": "7d3486da",
   "metadata": {},
   "source": [
    "### Create DF of results matching PyLDAVis topic ordering:"
   ]
  },
  {
   "cell_type": "code",
   "execution_count": 180,
   "id": "46060d84",
   "metadata": {},
   "outputs": [],
   "source": [
    "top_topics = lda_model.top_topics(corpus, topn = 10)"
   ]
  },
  {
   "cell_type": "code",
   "execution_count": 182,
   "id": "ee11c39a",
   "metadata": {},
   "outputs": [
    {
     "name": "stderr",
     "output_type": "stream",
     "text": [
      "C:\\Users\\rylan\\AppData\\Local\\Temp\\ipykernel_18124\\2920603485.py:10: FutureWarning: The frame.append method is deprecated and will be removed from pandas in a future version. Use pandas.concat instead.\n",
      "  results_df = results_df.append(new_row, ignore_index = True)\n",
      "C:\\Users\\rylan\\AppData\\Local\\Temp\\ipykernel_18124\\2920603485.py:10: FutureWarning: The frame.append method is deprecated and will be removed from pandas in a future version. Use pandas.concat instead.\n",
      "  results_df = results_df.append(new_row, ignore_index = True)\n",
      "C:\\Users\\rylan\\AppData\\Local\\Temp\\ipykernel_18124\\2920603485.py:10: FutureWarning: The frame.append method is deprecated and will be removed from pandas in a future version. Use pandas.concat instead.\n",
      "  results_df = results_df.append(new_row, ignore_index = True)\n",
      "C:\\Users\\rylan\\AppData\\Local\\Temp\\ipykernel_18124\\2920603485.py:10: FutureWarning: The frame.append method is deprecated and will be removed from pandas in a future version. Use pandas.concat instead.\n",
      "  results_df = results_df.append(new_row, ignore_index = True)\n",
      "C:\\Users\\rylan\\AppData\\Local\\Temp\\ipykernel_18124\\2920603485.py:10: FutureWarning: The frame.append method is deprecated and will be removed from pandas in a future version. Use pandas.concat instead.\n",
      "  results_df = results_df.append(new_row, ignore_index = True)\n",
      "C:\\Users\\rylan\\AppData\\Local\\Temp\\ipykernel_18124\\2920603485.py:10: FutureWarning: The frame.append method is deprecated and will be removed from pandas in a future version. Use pandas.concat instead.\n",
      "  results_df = results_df.append(new_row, ignore_index = True)\n",
      "C:\\Users\\rylan\\AppData\\Local\\Temp\\ipykernel_18124\\2920603485.py:10: FutureWarning: The frame.append method is deprecated and will be removed from pandas in a future version. Use pandas.concat instead.\n",
      "  results_df = results_df.append(new_row, ignore_index = True)\n",
      "C:\\Users\\rylan\\AppData\\Local\\Temp\\ipykernel_18124\\2920603485.py:10: FutureWarning: The frame.append method is deprecated and will be removed from pandas in a future version. Use pandas.concat instead.\n",
      "  results_df = results_df.append(new_row, ignore_index = True)\n",
      "C:\\Users\\rylan\\AppData\\Local\\Temp\\ipykernel_18124\\2920603485.py:10: FutureWarning: The frame.append method is deprecated and will be removed from pandas in a future version. Use pandas.concat instead.\n",
      "  results_df = results_df.append(new_row, ignore_index = True)\n",
      "C:\\Users\\rylan\\AppData\\Local\\Temp\\ipykernel_18124\\2920603485.py:10: FutureWarning: The frame.append method is deprecated and will be removed from pandas in a future version. Use pandas.concat instead.\n",
      "  results_df = results_df.append(new_row, ignore_index = True)\n",
      "C:\\Users\\rylan\\AppData\\Local\\Temp\\ipykernel_18124\\2920603485.py:10: FutureWarning: The frame.append method is deprecated and will be removed from pandas in a future version. Use pandas.concat instead.\n",
      "  results_df = results_df.append(new_row, ignore_index = True)\n",
      "C:\\Users\\rylan\\AppData\\Local\\Temp\\ipykernel_18124\\2920603485.py:10: FutureWarning: The frame.append method is deprecated and will be removed from pandas in a future version. Use pandas.concat instead.\n",
      "  results_df = results_df.append(new_row, ignore_index = True)\n"
     ]
    }
   ],
   "source": [
    "results_df = pd.DataFrame(columns = [\"topic\", \"topicwords\"])\n",
    "\n",
    "i = 0\n",
    "for t in top_topics:\n",
    "    curr = []\n",
    "    for top in range(10):\n",
    "        curr.append(t[0][top][1])\n",
    "        \n",
    "    new_row = {\"topic\": i, \"topicwords\": curr}\n",
    "    results_df = results_df.append(new_row, ignore_index = True)\n",
    "    i += 1"
   ]
  },
  {
   "cell_type": "markdown",
   "id": "c70d415f",
   "metadata": {},
   "source": [
    "### Save result df to print in collab (Simply for formatting purposes)"
   ]
  },
  {
   "cell_type": "code",
   "execution_count": 125,
   "id": "40234bd6",
   "metadata": {},
   "outputs": [],
   "source": [
    "result_df_diff.to_csv(\"Gensim_model_df_dist.csv\", index = False)"
   ]
  },
  {
   "cell_type": "code",
   "execution_count": 185,
   "id": "31908319",
   "metadata": {},
   "outputs": [],
   "source": [
    "results_df.to_csv(\"Gensim_model_results.csv\", index = False)"
   ]
  },
  {
   "cell_type": "markdown",
   "id": "89c630cf",
   "metadata": {},
   "source": [
    "### Topic Frequency:"
   ]
  },
  {
   "cell_type": "code",
   "execution_count": 189,
   "id": "52f43152",
   "metadata": {},
   "outputs": [],
   "source": [
    "dominant_topic_list = []\n",
    "for doc in range(len(corpus)):\n",
    "    dominant_topic = max(lda_model.get_document_topics(corpus[doc]), key = lambda x: x[1])[0]\n",
    "    dominant_topic_list.append(dominant_topic)"
   ]
  },
  {
   "cell_type": "code",
   "execution_count": 195,
   "id": "76e76f94",
   "metadata": {},
   "outputs": [
    {
     "data": {
      "image/png": "[encoded data removed]",
      "text/plain": [
       "<Figure size 432x288 with 1 Axes>"
      ]
     },
     "metadata": {
      "needs_background": "light"
     },
     "output_type": "display_data"
    }
   ],
   "source": [
    "plt.hist(dominant_topic_list, bins=range(12))\n",
    "plt.xticks([0, 1, 2, 3, 4, 5, 6, 7, 8, 9, 10, 11])\n",
    "plt.show()"
   ]
  }
 ],
 "metadata": {
  "kernelspec": {
   "display_name": "Python 3 (ipykernel)",
   "language": "python",
   "name": "python3"
  },
  "language_info": {
   "codemirror_mode": {
    "name": "ipython",
    "version": 3
   },
   "file_extension": ".py",
   "mimetype": "text/x-python",
   "name": "python",
   "nbconvert_exporter": "python",
   "pygments_lexer": "ipython3",
   "version": "3.9.12"
  }
 },
 "nbformat": 4,
 "nbformat_minor": 5
}
